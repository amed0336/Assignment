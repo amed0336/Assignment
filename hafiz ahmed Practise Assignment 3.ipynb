{
 "cells": [
  {
   "cell_type": "markdown",
   "metadata": {},
   "source": [
    "# Q1:"
   ]
  },
  {
   "cell_type": "markdown",
   "metadata": {},
   "source": [
    "Think of at least three kinds of your favorite pizza. Store these pizza names in a list, and then use a for loop to print the name of each pizza."
   ]
  },
  {
   "cell_type": "code",
   "execution_count": 9,
   "metadata": {},
   "outputs": [],
   "source": [
    "pizza=[\"fajita flavour\",\"chikkan tikkah flavour\",\"bar bq flavour\",\"macaroni flavour\"]"
   ]
  },
  {
   "cell_type": "code",
   "execution_count": 10,
   "metadata": {},
   "outputs": [
    {
     "name": "stdout",
     "output_type": "stream",
     "text": [
      "My favourite is\n",
      ">> Fajita Flavour\n",
      ">> Chikkan Tikkah Flavour\n",
      ">> Bar Bq Flavour\n",
      ">> Macaroni Flavour\n"
     ]
    }
   ],
   "source": [
    "print('My favourite is')\n",
    "for k in pizza:\n",
    "    print('>>',k.title())"
   ]
  },
  {
   "cell_type": "markdown",
   "metadata": {},
   "source": [
    "# Q2"
   ]
  },
  {
   "cell_type": "markdown",
   "metadata": {},
   "source": [
    "Start with your last question , Modify your for loop to print a sentence using the name of the pizza\n",
    "instead of printing just the name of the pizza. For each pizza you should\n",
    "have one line of output containing a simple statement like I like pepperoni\n",
    "pizza."
   ]
  },
  {
   "cell_type": "code",
   "execution_count": null,
   "metadata": {},
   "outputs": [],
   "source": [
    "pizza=[\"fajita flavour\",\"chikkan tikkah flavour\",\"bar bq flavour\",\"macaroni flavour\"]"
   ]
  },
  {
   "cell_type": "code",
   "execution_count": 13,
   "metadata": {},
   "outputs": [
    {
     "name": "stdout",
     "output_type": "stream",
     "text": [
      "I Like Fajita Flavour\n",
      "I Like Chikkan Tikkah Flavour\n",
      "I Like Bar Bq Flavour\n",
      "I Like Macaroni Flavour\n"
     ]
    }
   ],
   "source": [
    "for k in pizza:\n",
    "    print(f'I Like {k.title()}')"
   ]
  },
  {
   "cell_type": "markdown",
   "metadata": {},
   "source": [
    "# Q3:"
   ]
  },
  {
   "cell_type": "markdown",
   "metadata": {},
   "source": [
    "Use a for loop to print the numbers from 1 to 20,\n",
    "inclusive."
   ]
  },
  {
   "cell_type": "code",
   "execution_count": 15,
   "metadata": {},
   "outputs": [
    {
     "name": "stdout",
     "output_type": "stream",
     "text": [
      "1\n",
      "2\n",
      "3\n",
      "4\n",
      "5\n",
      "6\n",
      "7\n",
      "8\n",
      "9\n",
      "10\n",
      "11\n",
      "12\n",
      "13\n",
      "14\n",
      "15\n",
      "16\n",
      "17\n",
      "18\n",
      "19\n",
      "20\n"
     ]
    }
   ],
   "source": [
    "for k in range(1,21):\n",
    "    print(k)"
   ]
  },
  {
   "cell_type": "markdown",
   "metadata": {},
   "source": [
    "# Q4:"
   ]
  },
  {
   "cell_type": "markdown",
   "metadata": {},
   "source": [
    "Use the third argument of the range() function to make a list\n",
    "of the odd numbers from 1 to 20. Use a for loop to print each number."
   ]
  },
  {
   "cell_type": "code",
   "execution_count": 17,
   "metadata": {},
   "outputs": [
    {
     "name": "stdout",
     "output_type": "stream",
     "text": [
      "1\n",
      "3\n",
      "5\n",
      "7\n",
      "9\n",
      "11\n",
      "13\n",
      "15\n",
      "17\n",
      "19\n"
     ]
    }
   ],
   "source": [
    "for k in range(1,20,2):\n",
    "    print(k)"
   ]
  },
  {
   "cell_type": "markdown",
   "metadata": {},
   "source": [
    "# Q5:"
   ]
  },
  {
   "cell_type": "markdown",
   "metadata": {},
   "source": [
    "Make a list of the multiples of 3 from 3 to 30. Use a for loop to\n",
    "print the numbers in your list."
   ]
  },
  {
   "cell_type": "code",
   "execution_count": 28,
   "metadata": {},
   "outputs": [],
   "source": [
    "a=[]"
   ]
  },
  {
   "cell_type": "code",
   "execution_count": 27,
   "metadata": {},
   "outputs": [
    {
     "name": "stdout",
     "output_type": "stream",
     "text": [
      "[9, 12, 15, 18, 21, 24, 27, 30, 33, 36, 39, 42, 45, 48, 51, 54, 57, 60, 63, 66, 69, 72, 75, 78, 81, 84, 87, 90]\n"
     ]
    }
   ],
   "source": [
    "for k in range(3,31):\n",
    "    mul=k*3\n",
    "    a.append(mul)\n",
    "print(a)"
   ]
  },
  {
   "cell_type": "markdown",
   "metadata": {},
   "source": [
    "# Q6:"
   ]
  },
  {
   "cell_type": "markdown",
   "metadata": {},
   "source": [
    "A number raised to the third power is called a cube. For example,\n",
    "the cube of 2 is written as 2**3 in Python. Make a list of the first 10 cubes (that\n",
    "is, the cube of each integer from 1 through 10), and use a for loop to print out\n",
    "the value of each cube"
   ]
  },
  {
   "cell_type": "code",
   "execution_count": 29,
   "metadata": {},
   "outputs": [],
   "source": [
    "cube=[]"
   ]
  },
  {
   "cell_type": "code",
   "execution_count": 30,
   "metadata": {},
   "outputs": [
    {
     "name": "stdout",
     "output_type": "stream",
     "text": [
      "[1, 8, 27, 64, 125, 216, 343, 512, 729, 1000]\n"
     ]
    }
   ],
   "source": [
    "for k in range(1,11):\n",
    "    c=k**3\n",
    "    cube.append(c)\n",
    "print(cube)"
   ]
  },
  {
   "cell_type": "markdown",
   "metadata": {},
   "source": [
    "# Q7:"
   ]
  },
  {
   "cell_type": "markdown",
   "metadata": {},
   "source": [
    "###### Make a python program that conatains your nine favourite dishes in a list called foods.\n",
    "\n",
    "###### Print the message, The first three items in the list are:. \n",
    "###### Then use a slice to print the first three items from that program’s list.\n",
    "\n",
    "###### Print the message, Three items from the middle of the list are:\n",
    "###### Use a slice to print three items from the middle of the list.\n",
    "\n",
    "###### Print the message, The last three items in the list are:\n",
    "###### Use a slice to print the last three items in the list."
   ]
  },
  {
   "cell_type": "code",
   "execution_count": 36,
   "metadata": {},
   "outputs": [
    {
     "name": "stdout",
     "output_type": "stream",
     "text": [
      "my favourite dishes\n",
      "['bryani', 'dalchawal', 'burger', 'pizza', 'fries', 'halwa puri', 'roll', 'samosa', 'karhai']\n",
      "The first three items in the list are:\n",
      "['bryani', 'dalchawal', 'burger']\n",
      "The middle three items in the list are:\n",
      "['pizza', 'fries', 'halwa puri']\n",
      "The last three items in the list are:\n",
      "['roll', 'samosa', 'karhai']\n"
     ]
    }
   ],
   "source": [
    "print('my favourite dishes')\n",
    "foods=[\"bryani\",\"dalchawal\",\"burger\",\"pizza\",\"fries\",\"halwa puri\",\"roll\",\"samosa\",\"karhai\"]\n",
    "print(foods)\n",
    "print('The first three items in the list are:')\n",
    "print(foods[0:3])\n",
    "\n",
    "print('The middle three items in the list are:')\n",
    "print(foods[3:6])\n",
    "\n",
    "print('The last three items in the list are:')\n",
    "print(foods[6:9])"
   ]
  },
  {
   "cell_type": "markdown",
   "metadata": {},
   "source": [
    "# Q8:"
   ]
  },
  {
   "cell_type": "markdown",
   "metadata": {},
   "source": [
    "### Start with your program from your last Question8.\n",
    "###### Make a copy of the list of foods, and call it friend_foods.\n",
    "###### Then, do the following:\n",
    "######    Add a new dish to the original list.\n",
    "######    Add a different dish to the list friend_foodss.\n",
    "######    Prove that you have two separate lists. \n",
    "###### Print the message, My favorite pizzas are: and then use a for loop to print the first list. \n",
    "###### Print the message,\n",
    "###### My friend’s favorite foods are:, and then use a for loop to print the second list.\n",
    "    \n",
    "##### NOTE: Make sure each new dish is stored in the appropriate list."
   ]
  },
  {
   "cell_type": "code",
   "execution_count": 38,
   "metadata": {},
   "outputs": [
    {
     "name": "stdout",
     "output_type": "stream",
     "text": [
      "['bryani', 'dalchawal', 'burger', 'pizza', 'fries', 'halwa puri', 'roll', 'samosa', 'karhai', 'plao']\n"
     ]
    }
   ],
   "source": [
    "foods=[\"bryani\",\"dalchawal\",\"burger\",\"pizza\",\"fries\",\"halwa puri\",\"roll\",\"samosa\",\"karhai\"]\n",
    "foods.append('plao')\n",
    "print(foods)"
   ]
  },
  {
   "cell_type": "code",
   "execution_count": 39,
   "metadata": {},
   "outputs": [
    {
     "name": "stdout",
     "output_type": "stream",
     "text": [
      "['bryani', 'dalchawal', 'burger', 'pizza', 'fries', 'halwa puri', 'roll', 'samosa', 'karhai', 'aalo ghost']\n"
     ]
    }
   ],
   "source": [
    "friend_foods=[\"bryani\",\"dalchawal\",\"burger\",\"pizza\",\"fries\",\"halwa puri\",\"roll\",\"samosa\",\"karhai\"]\n",
    "friend_foods.append('aalo ghost')\n",
    "print(friend_foods)"
   ]
  },
  {
   "cell_type": "code",
   "execution_count": 41,
   "metadata": {},
   "outputs": [
    {
     "name": "stdout",
     "output_type": "stream",
     "text": [
      "My favourate foods list: ['bryani', 'dalchawal', 'burger', 'pizza', 'fries', 'halwa puri', 'roll', 'samosa', 'karhai', 'plao']\n"
     ]
    }
   ],
   "source": [
    "print('My favourate foods list:',foods)"
   ]
  },
  {
   "cell_type": "code",
   "execution_count": 42,
   "metadata": {},
   "outputs": [
    {
     "name": "stdout",
     "output_type": "stream",
     "text": [
      "My friend foods list is: ['bryani', 'dalchawal', 'burger', 'pizza', 'fries', 'halwa puri', 'roll', 'samosa', 'karhai', 'aalo ghost']\n"
     ]
    }
   ],
   "source": [
    "print('My friend foods list is:',friend_foods)"
   ]
  },
  {
   "cell_type": "code",
   "execution_count": 47,
   "metadata": {},
   "outputs": [
    {
     "name": "stdout",
     "output_type": "stream",
     "text": [
      "my favourite foods:\n",
      ">> Bryani\n",
      ">> Dalchawal\n",
      ">> Burger\n",
      ">> Pizza\n",
      ">> Fries\n",
      ">> Halwa Puri\n",
      ">> Roll\n",
      ">> Samosa\n",
      ">> Karhai\n",
      ">> Plao\n"
     ]
    }
   ],
   "source": [
    "print(\"my favourite foods:\")\n",
    "for k in foods:\n",
    "    print(\">>\",k.title())"
   ]
  },
  {
   "cell_type": "code",
   "execution_count": 50,
   "metadata": {},
   "outputs": [
    {
     "name": "stdout",
     "output_type": "stream",
     "text": [
      "my friend foods is:\n",
      ">> Bryani\n",
      ">> Dalchawal\n",
      ">> Burger\n",
      ">> Pizza\n",
      ">> Fries\n",
      ">> Halwa Puri\n",
      ">> Roll\n",
      ">> Samosa\n",
      ">> Karhai\n",
      ">> Aalo Ghost\n"
     ]
    }
   ],
   "source": [
    " print(\"my friend foods is:\")\n",
    "for k in friend_foods:\n",
    "    print(\">>\",k.title())"
   ]
  },
  {
   "cell_type": "markdown",
   "metadata": {},
   "source": [
    "# Q9:"
   ]
  },
  {
   "cell_type": "markdown",
   "metadata": {},
   "source": [
    "Take a user input from console line.Store it in a variable called Alien_color.\n",
    "\n",
    "If the alien’s color is red, print a statement that the player just earned 5 points for shooting the alien.\n",
    "\n",
    "If the alien’s color isn’t green, print a statement that the player just earned 10 points.\n",
    "\n",
    "If the alien's color isn't red or green , print a statment :, Alien is no more....."
   ]
  },
  {
   "cell_type": "code",
   "execution_count": 53,
   "metadata": {},
   "outputs": [
    {
     "name": "stdout",
     "output_type": "stream",
     "text": [
      "if the alien color is:yellow\n",
      " the player just earned 10 points.\n",
      "Alien is no more.....\n"
     ]
    }
   ],
   "source": [
    "alien_color=input('if the alien color is:')\n",
    "if alien_color=='red':\n",
    "    print(\"The player just earned 5 points for shooting the alien\")\n",
    "if alien_color!='green':\n",
    "    print(\" the player just earned 10 points.\")\n",
    "if alien_color!='green' or alien_color!='red':\n",
    "    print(\"Alien is no more.....\")"
   ]
  },
  {
   "cell_type": "markdown",
   "metadata": {},
   "source": [
    "# Q10:"
   ]
  },
  {
   "cell_type": "markdown",
   "metadata": {},
   "source": [
    "Write an if-elif-else chain that determines a person’s\n",
    "stage of life. Set a value for the variable age, and then:\n",
    "    \n",
    "•\t If the person is less than 2 years old, print a message that the person is a baby.\n",
    "\n",
    "•\t If the person is at least 2 years old but less than 4, print a message that the person is a toddler.\n",
    "\n",
    "•\t If the person is at least 4 years old but less than 13, print a message that the person is a kid.\n",
    "\n",
    "•\t If the person is at least 13 years old but less than 20, print a message that the person is a teenager.\n",
    "\n",
    "•\t If the person is at least 20 years old but less than 65, print a message that the person is an adult.\n",
    "\n",
    "•\t If the person is age 65 or older, print a message that the person is an elder."
   ]
  },
  {
   "cell_type": "code",
   "execution_count": 4,
   "metadata": {},
   "outputs": [
    {
     "name": "stdout",
     "output_type": "stream",
     "text": [
      "Enter age :45\n",
      "The person is an adult\n"
     ]
    }
   ],
   "source": [
    "age=int(input(\"Enter age :\"))\n",
    "if age<2:\n",
    "    print(\"The person is a baby.\")\n",
    "elif 2<=age<4:\n",
    "    print(\"The person is a toddler.\")\n",
    "elif 4<=age<13:\n",
    "    print(\"The person is a Kid.\")\n",
    "elif 13<=age<20:\n",
    "    print(\"The person is teenager.\")\n",
    "elif 20<=age<65:\n",
    "    print(\"The person is an adult\")\n",
    "else:\n",
    "    print(\"Thr person is an elder\")"
   ]
  },
  {
   "cell_type": "markdown",
   "metadata": {},
   "source": [
    "# Q11:"
   ]
  },
  {
   "cell_type": "markdown",
   "metadata": {},
   "source": [
    "Do the following to create a program that simulates how websites ensure that everyone has a unique username.\n",
    "\n",
    "•\t Make a list of five or more usernames called current_users.\n",
    "\n",
    "•\t Make another list of five usernames called new_users. \n",
    "Make sure one or two of the new usernames are also in the current_users list.\n",
    "\n",
    "•\t Loop through the new_users list to see if each new username has already been used. \n",
    "If it has, print a message that the person will need to enter a new username. \n",
    "If a username has not been used, print a message saying that the username is available.\n",
    "\n",
    "•\t Make sure your comparison is case insensitive. If 'John' has been used, 'JOHN' should not be accepted."
   ]
  },
  {
   "cell_type": "code",
   "execution_count": 7,
   "metadata": {},
   "outputs": [
    {
     "name": "stdout",
     "output_type": "stream",
     "text": [
      "ebad will need to enter a new username.\n",
      "sameer is available.\n",
      "hassan is available.\n",
      "affan is available.\n",
      "ahmed will need to enter a new username.\n"
     ]
    }
   ],
   "source": [
    "current_users=['ahmed','ebad','talha','bilal','zain']\n",
    "new_users=['ebad','sameer','hassan','affan','ahmed']\n",
    "\n",
    "current_low=[cur.lower() for cur in current_users]\n",
    "new_low=[cur.lower() for cur in new_users]\n",
    "\n",
    "for new_user in new_low:\n",
    "    if new_user in current_low:\n",
    "        print(new_user,\"will need to enter a new username.\")\n",
    "    else:\n",
    "        print(new_user, \"is available.\")"
   ]
  },
  {
   "cell_type": "markdown",
   "metadata": {},
   "source": [
    "# Q12:"
   ]
  },
  {
   "cell_type": "markdown",
   "metadata": {},
   "source": [
    "Use a dictionary to store information about a person you know.\n",
    "Store their first name, last name, age, and the city in which they live. \n",
    "You should have keys such as first_name, last_name, age, and city. \n",
    "Print each piece of information stored in your dictionary"
   ]
  },
  {
   "cell_type": "code",
   "execution_count": 8,
   "metadata": {},
   "outputs": [
    {
     "name": "stdout",
     "output_type": "stream",
     "text": [
      "{'first name': 'ebad', 'last name': 'hassan', 'age': '21', 'city': 'karachi'}\n"
     ]
    }
   ],
   "source": [
    "informat={'first name':'ebad','last name':'hassan','age':'21','city':'karachi'}\n",
    "print(informat)"
   ]
  },
  {
   "cell_type": "code",
   "execution_count": 9,
   "metadata": {},
   "outputs": [
    {
     "name": "stdout",
     "output_type": "stream",
     "text": [
      "ebad\n",
      "hassan\n",
      "21\n",
      "karachi\n"
     ]
    }
   ],
   "source": [
    "print(informat['first name'])\n",
    "print(informat['last name'])\n",
    "print(informat['age'])\n",
    "print(informat['city'])"
   ]
  },
  {
   "cell_type": "markdown",
   "metadata": {},
   "source": [
    "# Q13:"
   ]
  },
  {
   "cell_type": "markdown",
   "metadata": {},
   "source": [
    "Starts with your last question 12 , loop through the dictionary’s keys and values.\n",
    "When you’re sure that your loop works, add five more Python terms to your\n",
    "dictionary . When you run your program again, these new words and meanings\n",
    "should automatically be included in the output."
   ]
  },
  {
   "cell_type": "code",
   "execution_count": 11,
   "metadata": {},
   "outputs": [
    {
     "name": "stdout",
     "output_type": "stream",
     "text": [
      "keys: first name\n",
      "value: ebad\n",
      "keys: last name\n",
      "value: hassan\n",
      "keys: age\n",
      "value: 21\n",
      "keys: city\n",
      "value: karachi\n"
     ]
    }
   ],
   "source": [
    "informat={'first name':'ebad','last name':'hassan','age':'21','city':'karachi'}\n",
    "for k,v in informat.items():\n",
    "    print('keys:',k)\n",
    "    print('value:',v)"
   ]
  },
  {
   "cell_type": "code",
   "execution_count": 13,
   "metadata": {},
   "outputs": [
    {
     "name": "stdout",
     "output_type": "stream",
     "text": [
      "keys: first name\n",
      "value: ebad\n",
      "keys: last name\n",
      "value: hassan\n",
      "keys: age\n",
      "value: 21\n",
      "keys: city\n",
      "value: karachi\n",
      "keys: Abstract Base Class\n",
      "value: An abstract base class provides a way to define interfaces\n",
      "keys:  Python Argument\n",
      "value: An argument is a value we pass to a function or a method when calling it\n",
      "keys: Attribute\n",
      "value: An attribute is a value an object holds\n",
      "keys: loop\n",
      "value: Work through a collection of items, one at a time\n",
      "keys: Python Class\n",
      "value: A class, in Python, is a template for creating user-defined objects.\n"
     ]
    }
   ],
   "source": [
    " informat={'first name':'ebad','last name':'hassan','age':'21','city':'karachi',\n",
    "    \"Abstract Base Class\":\"An abstract base class provides a way to define interfaces\",\n",
    "     \" Python Argument\":\"An argument is a value we pass to a function or a method when calling it\",\n",
    "     \"Attribute\":\"An attribute is a value an object holds\",\n",
    "      \"loop\": \"Work through a collection of items, one at a time\",\n",
    "     \"Python Class\":\"A class, in Python, is a template for creating user-defined objects.\"}\n",
    "\n",
    "for k,v in informat.items():\n",
    "    print('keys:',k)\n",
    "    print('value:',v)\n"
   ]
  },
  {
   "cell_type": "markdown",
   "metadata": {},
   "source": [
    "# Q14:"
   ]
  },
  {
   "cell_type": "markdown",
   "metadata": {},
   "source": [
    "Make a dictionary containing three major rivers and the country\n",
    "each river runs through. One key-value pair might be 'nile': 'egypt'.\n",
    "    \n",
    "    \n",
    "•\t Use a loop to print a sentence about each river, such as The Nile runs\n",
    "through Egypt.\n",
    "\n",
    "NOTE: use upper case through keys and values."
   ]
  },
  {
   "cell_type": "code",
   "execution_count": 15,
   "metadata": {},
   "outputs": [
    {
     "name": "stdout",
     "output_type": "stream",
     "text": [
      "The SEPIK RIVER in PAPUA NEW GUINEA\n",
      "The GANGES RIVER in INDIA\n",
      "The CHENAB RIVER in PAKISTAN\n"
     ]
    }
   ],
   "source": [
    "river={\"Sepik River\":\"Papua New Guinea\",\"Ganges River\":\"India\",\"Chenab River\":\"Pakistan\"}\n",
    "\n",
    "for k,v in river.items():\n",
    "    print('The'+\" \"+k.upper()+\" \"+'in'+\" \"+v.upper())"
   ]
  },
  {
   "cell_type": "markdown",
   "metadata": {},
   "source": [
    "# Q15:"
   ]
  },
  {
   "cell_type": "markdown",
   "metadata": {},
   "source": [
    "Make several dictionaries, where the name of each dictionary is the\n",
    "name of a pet. In each dictionary, include the kind of animal and the owner’s\n",
    "name. Store these dictionaries in a list called pets. Next, loop through your list\n",
    "and as you do print everything you know about each pet."
   ]
  },
  {
   "cell_type": "code",
   "execution_count": 24,
   "metadata": {},
   "outputs": [
    {
     "name": "stdout",
     "output_type": "stream",
     "text": [
      "{'pet': 'cat', 'name': 'Shehro', 'owner': 'ebad'}\n",
      "{'pet': 'turtle', 'name': 'Drako', 'owner': 'talha'}\n",
      "{'pet': 'parrot', 'name': 'swety', 'owner': 'affan'}\n"
     ]
    }
   ],
   "source": [
    "a={'pet':'cat','name':'Shehro','owner':'ebad'}\n",
    "b={'pet':'turtle','name':'Drako','owner':'talha'}\n",
    "c={'pet':'parrot','name':'swety','owner':'affan'}\n",
    "pets=[a, b ,c]\n",
    "for pet in pets:\n",
    "    print(pet)\n"
   ]
  },
  {
   "cell_type": "code",
   "execution_count": 26,
   "metadata": {},
   "outputs": [
    {
     "name": "stdout",
     "output_type": "stream",
     "text": [
      "Pet = Cat\n",
      "Name = Shehro\n",
      "Owner = Ebad\n",
      "+++++++++++++++++++++++++++++\n",
      "Pet = Turtle\n",
      "Name = Drako\n",
      "Owner = Talha\n",
      "+++++++++++++++++++++++++++++\n",
      "Pet = Parrot\n",
      "Name = Swety\n",
      "Owner = Affan\n",
      "+++++++++++++++++++++++++++++\n"
     ]
    }
   ],
   "source": [
    "for k,v in a.items():\n",
    "    print(k.title(),\"=\",v.title())\n",
    "print(\"+++++++++++++++++++++++++++++\")\n",
    "for k,v in b.items():\n",
    "    print(k.title(),\"=\",v.title())\n",
    "print(\"+++++++++++++++++++++++++++++\")\n",
    "    \n",
    "for k,v in c.items():\n",
    "    print(k.title(),\"=\",v.title())\n",
    "print(\"+++++++++++++++++++++++++++++\")"
   ]
  }
 ],
 "metadata": {
  "kernelspec": {
   "display_name": "Python 3",
   "language": "python",
   "name": "python3"
  },
  "language_info": {
   "codemirror_mode": {
    "name": "ipython",
    "version": 3
   },
   "file_extension": ".py",
   "mimetype": "text/x-python",
   "name": "python",
   "nbconvert_exporter": "python",
   "pygments_lexer": "ipython3",
   "version": "3.7.3"
  }
 },
 "nbformat": 4,
 "nbformat_minor": 2
}
